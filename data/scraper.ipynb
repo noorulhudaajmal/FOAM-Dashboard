{
 "cells": [
  {
   "cell_type": "code",
   "id": "initial_id",
   "metadata": {
    "collapsed": true
   },
   "source": [
    "import pandas as pd\n",
    "import requests"
   ],
   "outputs": [],
   "execution_count": null
  },
  {
   "metadata": {},
   "cell_type": "markdown",
   "source": "### GETTING PAST AWARDS DATA",
   "id": "ab0190a6b0448c03"
  },
  {
   "metadata": {},
   "cell_type": "code",
   "source": "url = \"https://api.usaspending.gov/api/v2/search/spending_by_award/\"",
   "id": "5b0d5c1b43f30d29",
   "outputs": [],
   "execution_count": null
  },
  {
   "metadata": {},
   "cell_type": "code",
   "source": [
    "params = {\n",
    "    \"filters\": {\n",
    "        \"time_period\": [{\"start_date\": \"2019-01-01\"}],\n",
    "        \"award_type_codes\": [\"IDV_A\", \"IDV_B\", \"IDV_B_A\", \"IDV_B_B\", \"IDV_B_C\"],\n",
    "        # \"place_of_performance_scope\": \"domestic\",\n",
    "        # \"award_amounts\": [\n",
    "        #     {\n",
    "        #         \"lower_bound\": 1500000.00,\n",
    "        #         \"upper_bound\": 1600000.00\n",
    "        #     }\n",
    "        # ],\n",
    "    },\n",
    "    \"fields\": [\"Award ID\", \"Awarding Agency\", \"Recipient Name\",\n",
    "               \"Contract Award Type\", \"Contract Status\", \"naics_description\",\n",
    "               \"AwardAmount_Binned\", \"generated_internal_id\", \"Award Amount\",\n",
    "               \"Description\", \"Start Date\", \"End Date\", \"Last Modified Date\",\n",
    "               \"Months Until Contract Ends\", \"PastAwards_URL\",\n",
    "               \"number_of_offers_received\", \"Contract Duration (Years)\"],\n",
    "    \"sort\": \"Recipient Name\",\n",
    "    \"order\": \"desc\",\n",
    "    \"page\": 1,\n",
    "    \"limit\": 100,\n",
    "}"
   ],
   "id": "70246d2ad274b899",
   "outputs": [],
   "execution_count": null
  },
  {
   "metadata": {},
   "cell_type": "code",
   "source": [
    "# getting data using api endpoint\n",
    "all_results = []\n",
    "\n",
    "while True:\n",
    "    response = requests.post(url, json=params)\n",
    "    data = response.json()[\"results\"]\n",
    "    all_results.extend(data)\n",
    "\n",
    "    if len(data) < 100:\n",
    "        break\n",
    "\n",
    "    params[\"page\"] += 1\n",
    "\n",
    "df = pd.DataFrame(all_results)"
   ],
   "id": "61671dbc5b25c092",
   "outputs": [],
   "execution_count": null
  },
  {
   "metadata": {},
   "cell_type": "code",
   "source": "len(data)",
   "id": "ec0470679a9a87ce",
   "outputs": [],
   "execution_count": null
  },
  {
   "metadata": {},
   "cell_type": "code",
   "source": [
    "df.to_csv(\"PastAwards.csv\", index=False)\n",
    "\n",
    "print(\"All data downloaded and saved successfully.\")"
   ],
   "id": "b97b30132d64d4ec",
   "outputs": [],
   "execution_count": null
  },
  {
   "metadata": {},
   "cell_type": "markdown",
   "source": "### GETTING ACTIVE OPPORTUNITIES DATA",
   "id": "24935743655eb316"
  },
  {
   "metadata": {},
   "cell_type": "code",
   "source": "url = \"https://api.sam.gov/prod/opportunities/v1/search/\"",
   "id": "2eba096b00abdcc9",
   "outputs": [],
   "execution_count": null
  },
  {
   "metadata": {},
   "cell_type": "code",
   "source": [
    "params = {\n",
    "    \"limit\": 100,\n",
    "    \"api_key\": \"xxxxxxxxxxxxxxxx\",\n",
    "    \"start\": 0,\n",
    "}"
   ],
   "id": "cc3ad2b30ece0bad",
   "outputs": [],
   "execution_count": null
  },
  {
   "metadata": {},
   "cell_type": "code",
   "source": [
    "all_results = []\n",
    "\n",
    "while True:\n",
    "    response = requests.get(url, params=params)\n",
    "    data = response.json()[\"opportunities\"]\n",
    "    all_results.extend(data)\n",
    "\n",
    "    if len(data) < 100:\n",
    "        break\n",
    "\n",
    "    params[\"start\"] += 100"
   ],
   "id": "1b0944bcf09b9954",
   "outputs": [],
   "execution_count": null
  },
  {
   "metadata": {},
   "cell_type": "code",
   "source": [
    "# Extracting relevant fields\n",
    "fields = [\"noticeId\", \"title\", \"solicitationNumber\", \"postedDate\", \"responseDeadline\", \"naicsCode\", \"description\", \"type\", \"setAsideType\", \"activeStatus\", \"awardingAgency\", \"awardingAgencyCode\", \"classificationCode\", \"pointOfContact\", \"archiveDate\", \"officeZipcode\", \"officeCity\", \"officeCountryCode\", \"officeState\", \"performanceCityCode\", \"performanceCityName\", \"performanceStateName\", \"performanceZipcode\", \"daysToResponseDeadline\", \"descriptionLink\", \"naics2022Code\", \"naics2022Title\", \"descriptionText\", \"score\", \"scoreMapped\", \"shortDescription\", \"naicsCodeDesc\", \"daysRemainingCode\"]"
   ],
   "id": "5a27a82e92c2a42e",
   "outputs": [],
   "execution_count": null
  },
  {
   "metadata": {},
   "cell_type": "code",
   "source": [
    "# Converting data to DataFrame\n",
    "df = pd.DataFrame(all_results)\n",
    "df = df[fields]"
   ],
   "id": "1892f809ef28061c",
   "outputs": [],
   "execution_count": null
  },
  {
   "metadata": {},
   "cell_type": "code",
   "source": [
    "# Save the data to a CSV file\n",
    "df.to_csv(\"ActiveOpportunities.csv\", index=False)\n",
    "\n",
    "print(\"Data downloaded and saved successfully.\")"
   ],
   "id": "b89a859caa82ed21",
   "outputs": [],
   "execution_count": null
  }
 ],
 "metadata": {
  "kernelspec": {
   "display_name": "Python 3",
   "language": "python",
   "name": "python3"
  },
  "language_info": {
   "codemirror_mode": {
    "name": "ipython",
    "version": 2
   },
   "file_extension": ".py",
   "mimetype": "text/x-python",
   "name": "python",
   "nbconvert_exporter": "python",
   "pygments_lexer": "ipython2",
   "version": "2.7.6"
  }
 },
 "nbformat": 4,
 "nbformat_minor": 5
}
